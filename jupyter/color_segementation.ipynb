{
  "nbformat": 4,
  "nbformat_minor": 0,
  "metadata": {
    "colab": {
      "name": "color-segementation.ipynb",
      "provenance": [],
      "collapsed_sections": []
    },
    "kernelspec": {
      "name": "python3",
      "display_name": "Python 3"
    },
    "language_info": {
      "name": "python"
    }
  },
  "cells": [
    {
      "cell_type": "code",
      "source": [
        "!pip install -q \"labelbox[data]\""
      ],
      "metadata": {
        "id": "H4zv_ElygnE0"
      },
      "execution_count": null,
      "outputs": []
    },
    {
      "cell_type": "code",
      "source": [
        "from labelbox import Client, OntologyBuilder\n",
        "from labelbox.data.annotation_types import Geometry\n",
        "from labelbox.data.annotation_types.collection import LabelList\n",
        "from PIL import Image\n",
        "import numpy as np\n",
        "import os\n",
        "import torch"
      ],
      "metadata": {
        "id": "kqNeU5p6gsPh"
      },
      "execution_count": null,
      "outputs": []
    },
    {
      "cell_type": "code",
      "source": [
        "class SegClsName:\n",
        "  VESSEL = \"血管\"\n",
        "  BRONCHUS = \"支气管\"\n",
        "\n",
        "  def get_all_names():\n",
        "    return ['支气管', '血管']\n",
        "\n",
        "class VesselRatingName:\n",
        "  D = \"D血管周围浸润\"\n",
        "\n",
        "class BronchusRatingName:\n",
        "  A = \"A支气管浸润\"\n",
        "  B = \"B支气管浸润定性\"\n",
        "  C = \"C支气管腔渗出\"\n",
        "\n",
        "  def get_all_names():\n",
        "    return [\"A支气管浸润\", \"B支气管浸润定性\", \"C支气管腔渗出\"]"
      ],
      "metadata": {
        "id": "wDQ6najEgvFp"
      },
      "execution_count": null,
      "outputs": []
    },
    {
      "cell_type": "code",
      "source": [
        "API_KEY = \"your-k\"\n",
        "PROJECT_ID = \"yours\"\n",
        "client = Client(api_key=API_KEY)\n",
        "project = client.get_project(PROJECT_ID)\n",
        "labels = project.label_generator().as_list()"
      ],
      "metadata": {
        "colab": {
          "base_uri": "https://localhost:8080/"
        },
        "id": "LTD71iFsgxT9",
        "outputId": "056c94c2-3496-461f-a3bc-f2682b636335"
      },
      "execution_count": null,
      "outputs": [
        {
          "output_type": "stream",
          "name": "stderr",
          "text": [
            "/usr/local/lib/python3.7/dist-packages/labelbox/data/annotation_types/classification/classification.py:85: UserWarning: Dropdown classification is deprecated and will be removed in a future release\n",
            "  warnings.warn(\"Dropdown classification is deprecated and will be \"\n"
          ]
        }
      ]
    },
    {
      "cell_type": "code",
      "source": [
        "from mpl_toolkits.mplot3d import Axes3D\n",
        "from matplotlib import cm\n",
        "from matplotlib import colors\n",
        "import cv2\n",
        "from matplotlib import pyplot as plt"
      ],
      "metadata": {
        "id": "ACvpwrNWO4v4"
      },
      "execution_count": null,
      "outputs": []
    },
    {
      "cell_type": "code",
      "source": [
        "nemo = np.array(Image.fromarray(labels[1].data.value).convert(\"RGB\"))\n",
        "# Image.fromarray(nemo[200:300, 100:200]).resize((1000, 1000))"
      ],
      "metadata": {
        "id": "_brtgAo1LX8D"
      },
      "execution_count": null,
      "outputs": []
    },
    {
      "cell_type": "code",
      "source": [
        "import numpy as np\n",
        "import cv2 as cv\n",
        "from matplotlib import pyplot as plt\n",
        "\n",
        "def color_seg(roi, target):\n",
        "    # roi is the object or region of object we need to find\n",
        "    hsv = cv.cvtColor(roi, cv.COLOR_BGR2HSV)\n",
        "\n",
        "    # target is the image we search in\n",
        "    # target = nemo\n",
        "    hsvt = cv.cvtColor(target, cv.COLOR_BGR2HSV)\n",
        "\n",
        "    # calculating object histogram\n",
        "    # 图像hsv，第一通道和第二通道，没有mask，分成多少份（h范围就是到180，所以现在bin是1）,从0-180的像素\n",
        "    roihist = cv.calcHist([hsv], [0, 1], None, [180, 256], [0, 180, 0, 256])\n",
        "\n",
        "    # normalize histogram and apply backprojection\n",
        "    cv.normalize(roihist, roihist, 0, 255, cv.NORM_MINMAX)\n",
        "    dst = cv.calcBackProject([hsvt], [0, 1], roihist, [0, 180, 0, 256], 1)\n",
        "\n",
        "    # Now convolute with circular disc\n",
        "    disc = cv.getStructuringElement(cv.MORPH_ELLIPSE, (5, 5))\n",
        "    cv.filter2D(dst, -1, disc, dst)\n",
        "\n",
        "    # threshold and binary AND\n",
        "    ret, thresh = cv.threshold(dst, 0, 255, 0)\n",
        "    thresh = cv.merge((thresh, thresh, thresh))\n",
        "    res = cv.bitwise_and(target, thresh)\n",
        "\n",
        "    #显示出来源图像，图像 mask 和抠图结果\n",
        "    res = np.vstack((target, thresh, res))\n",
        "    cv.imwrite('res.jpg', res)\n",
        "\n",
        "    area = np.where(thresh[:,:,0])[0].shape[0]\n",
        "    return roihist, thresh, area\n",
        "\n",
        "roi_ = cv.imread('/content/res.jpg')\n",
        "target_ = cv.imread('/content/drive/MyDrive/102-400-1.jpg')\n",
        "roihist_, th, ar = color_seg(roi_, target_)\n",
        "np.save('./background.npy', roihist_)\n",
        "roihist_, th, ar"
      ],
      "metadata": {
        "id": "sU2voDROUmXO"
      },
      "execution_count": null,
      "outputs": []
    },
    {
      "cell_type": "code",
      "source": [
        "def get_cytoplasm_area(img):\n",
        "  hist = np.load('cytoplasm.npy')\n",
        "  hsvt = cv.cvtColor(img, cv.COLOR_BGR2HSV)\n",
        "  dst = cv.calcBackProject([hsvt], [0, 1], hist, [0, 180, 0, 256], 1)\n",
        "\n",
        "  # Now convolute with circular disc\n",
        "  disc = cv.getStructuringElement(cv.MORPH_ELLIPSE, (5, 5))\n",
        "  cv.filter2D(dst, -1, disc, dst)\n",
        "\n",
        "  # threshold and binary AND\n",
        "  ret, thresh = cv.threshold(dst, 0, 255, 0)\n",
        "  thresh = cv.merge((thresh, thresh, thresh))\n",
        "\n",
        "  return np.where(thresh[:,:,0])[0].shape[0] "
      ],
      "metadata": {
        "id": "ykoyYyjmrDfI"
      },
      "execution_count": null,
      "outputs": []
    },
    {
      "cell_type": "code",
      "source": [
        "def get_area(img, histfile='nucleus.npy'):\n",
        "  hist = np.load(histfile)\n",
        "  hsvt = cv.cvtColor(img, cv.COLOR_BGR2HSV)\n",
        "  dst = cv.calcBackProject([hsvt], [0, 1], hist, [0, 180, 0, 256], 1)\n",
        "\n",
        "  # Now convolute with circular disc\n",
        "  disc = cv.getStructuringElement(cv.MORPH_ELLIPSE, (5, 5))\n",
        "  cv.filter2D(dst, -1, disc, dst)\n",
        "\n",
        "  # threshold and binary AND\n",
        "  ret, thresh = cv.threshold(dst, 0, 255, 0)\n",
        "  thresh = cv.merge((thresh, thresh, thresh))\n",
        "\n",
        "  return np.where(thresh[:,:,0])[0].shape[0]\n",
        "\n",
        "def get_nucleus_area(img):\n",
        "  return get_area(img, 'nucleus.npy')\n",
        "\n",
        "def get_cytoplasm_area(img):\n",
        "  return get_area(img, 'cytoplasm.npy')"
      ],
      "metadata": {
        "id": "CEbviTWyrpMI"
      },
      "execution_count": null,
      "outputs": []
    },
    {
      "cell_type": "code",
      "source": [
        "test_img = cv.imread('/content/drive/MyDrive/102-400-1.jpg')\n",
        "get_nucleus_area(test_img)/get_cytoplasm_area(test_img)"
      ],
      "metadata": {
        "colab": {
          "base_uri": "https://localhost:8080/"
        },
        "id": "6wz41UpNrt3r",
        "outputId": "b3c00034-3870-4036-a178-f66868fa0bdc"
      },
      "execution_count": null,
      "outputs": [
        {
          "output_type": "execute_result",
          "data": {
            "text/plain": [
              "0.2083661847939391"
            ]
          },
          "metadata": {},
          "execution_count": 76
        }
      ]
    }
  ]
}