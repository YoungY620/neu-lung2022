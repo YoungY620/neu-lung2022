{
  "cells": [
    {
      "cell_type": "markdown",
      "metadata": {
        "id": "vJsaxABHLCpR"
      },
      "source": [
        "- 首先尝试 svm 的分析性能\n",
        "- 可能再尝试 simCLR 对比学习架构（效果可能会很差）"
      ]
    },
    {
      "cell_type": "markdown",
      "metadata": {
        "id": "XfQS-MT0g_CJ"
      },
      "source": [
        "# 数据"
      ]
    },
    {
      "cell_type": "code",
      "execution_count": 1,
      "metadata": {
        "colab": {
          "base_uri": "https://localhost:8080/"
        },
        "id": "H4zv_ElygnE0",
        "outputId": "9c9165a9-795c-46ce-854b-0d4a18e197c0"
      },
      "outputs": [
        {
          "name": "stdout",
          "output_type": "stream",
          "text": [
            "\u001b[K     |████████████████████████████████| 167 kB 4.5 MB/s \n",
            "\u001b[K     |████████████████████████████████| 11.1 MB 54.0 MB/s \n",
            "\u001b[K     |████████████████████████████████| 6.3 MB 36.5 MB/s \n",
            "\u001b[?25h  Building wheel for pygeotile (setup.py) ... \u001b[?25l\u001b[?25hdone\n"
          ]
        }
      ],
      "source": [
        "!pip install -q \"labelbox[data]\""
      ]
    },
    {
      "cell_type": "code",
      "execution_count": 2,
      "metadata": {
        "id": "kqNeU5p6gsPh"
      },
      "outputs": [],
      "source": [
        "from labelbox import Client, OntologyBuilder\n",
        "from labelbox.data.annotation_types import Geometry\n",
        "from labelbox.data.annotation_types.collection import LabelList\n",
        "from PIL import Image\n",
        "import numpy as np\n",
        "import os\n",
        "import torch"
      ]
    },
    {
      "cell_type": "code",
      "execution_count": 3,
      "metadata": {
        "id": "wDQ6najEgvFp"
      },
      "outputs": [],
      "source": [
        "class SegClsName:\n",
        "  VESSEL = \"血管\"\n",
        "  BRONCHUS = \"支气管\"\n",
        "\n",
        "  def get_all_names():\n",
        "    return ['支气管', '血管']\n",
        "\n",
        "class VesselRatingName:\n",
        "  D = \"D血管周围浸润\"\n",
        "\n",
        "class BronchusRatingName:\n",
        "  A = \"A支气管浸润\"\n",
        "  B = \"B支气管浸润定性\"\n",
        "  C = \"C支气管腔渗出\"\n",
        "\n",
        "  def get_all_names():\n",
        "    return [\"A支气管浸润\", \"B支气管浸润定性\", \"C支气管腔渗出\"]"
      ]
    },
    {
      "cell_type": "code",
      "execution_count": 4,
      "metadata": {
        "colab": {
          "base_uri": "https://localhost:8080/"
        },
        "id": "LTD71iFsgxT9",
        "outputId": "58b5e1d7-f239-4e17-d71e-ea5fb98e6852"
      },
      "outputs": [
        {
          "name": "stderr",
          "output_type": "stream",
          "text": [
            "/usr/local/lib/python3.7/dist-packages/labelbox/data/annotation_types/classification/classification.py:85: UserWarning: Dropdown classification is deprecated and will be removed in a future release\n",
            "  warnings.warn(\"Dropdown classification is deprecated and will be \"\n"
          ]
        }
      ],
      "source": [
        "API_KEY = \"YOURS\"\n",
        "PROJECT_ID = \"YOURS\"\n",
        "client = Client(api_key=API_KEY)\n",
        "project = client.get_project(PROJECT_ID)\n",
        "labels = project.label_generator().as_list()"
      ]
    },
    {
      "cell_type": "code",
      "execution_count": 5,
      "metadata": {
        "id": "ACvpwrNWO4v4"
      },
      "outputs": [],
      "source": [
        "from mpl_toolkits.mplot3d import Axes3D\n",
        "from matplotlib import cm\n",
        "from matplotlib import colors\n",
        "import cv2\n",
        "from matplotlib import pyplot as plt"
      ]
    },
    {
      "cell_type": "code",
      "execution_count": 6,
      "metadata": {
        "id": "Hcissylomjel"
      },
      "outputs": [],
      "source": [
        "from collections import Counter\n",
        "from threading import Thread\n",
        "\n",
        "def get_box(a):\n",
        "  mask = a.value.draw()[:, :, 0]\n",
        "  pos = np.where(mask != 0)\n",
        "  xmin = np.min(pos[1])\n",
        "  xmax = np.max(pos[1])\n",
        "  ymin = np.min(pos[0])\n",
        "  ymax = np.max(pos[0])\n",
        "  # 只针对 ResNet18 的约束\n",
        "  if xmax - xmin > 32 or ymax - ymin > 32: \n",
        "    return [xmin, ymin, xmax, ymax] \n",
        "  return None\n",
        "\n",
        "def data_enhance(bs, rs):\n",
        "  data_dict = {}\n",
        "  for b,r in zip(bs, rs):\n",
        "    if r not in data_dict.keys(): data_dict[r] = []\n",
        "    data_dict[r].append(b)\n",
        "  ctr = Counter(rs)\n",
        "  max_num = max(list(ctr.values()))\n",
        "  for r in data_dict.keys():\n",
        "    if ctr[r] >= max_num: continue\n",
        "    bs.extend(np.random.choice(data_dict[r], size=max_num-ctr[r]))\n",
        "    rs.extend([r] * (max_num - ctr[r]))\n",
        "    assert len(bs)==len(rs)\n",
        "\n",
        "def get_box_ratings(lb_labels: LabelList, cls_name, rating_name, n_workers=4, reshape_size=(200,200), balance=False, flatten=True):\n",
        "\n",
        "  boxes = []\n",
        "  ratings = []\n",
        "\n",
        "  def parse(lb, a):\n",
        "    if a.name != cls_name: return\n",
        "    rating = [float(c.value.answer.name) for c in a.classifications if c.name == rating_name]\n",
        "    if len(rating) == 0: return\n",
        "    rating = rating[0]\n",
        "    box = get_box(a)\n",
        "    if box == None: return\n",
        "    im = lb.data.value[box[1]:box[3]+1, box[0]:box[2]+1]\n",
        "    \n",
        "    boxes.append(im)\n",
        "    ratings.append(rating)\n",
        "\n",
        "  class ParsingThread(Thread):\n",
        "    def __init__(self, lb, a):\n",
        "      Thread.__init__(self)\n",
        "      self.lb = lb\n",
        "      self.a = a\n",
        "\n",
        "    def run(self):\n",
        "      parse(self.lb, self.a)\n",
        "\n",
        "  ths = []\n",
        "  for lb in lb_labels:\n",
        "    for a in lb.object_annotations():\n",
        "      ths.append(ParsingThread(lb, a))\n",
        "\n",
        "  for t in ths[:n_workers]: t.start()\n",
        "  for t1, t2 in zip(ths, ths[n_workers:]):\n",
        "    t1.join()\n",
        "    t2.start()\n",
        "  for t in ths[-n_workers:]: t.join()\n",
        "\n",
        "  if balance: data_enhance(boxes, ratings)\n",
        "\n",
        "  assert reshape_size != None\n",
        "  boxes = np.array([np.array(Image.fromarray(im).resize(reshape_size), copy=True) for im in boxes])\n",
        "  if flatten: boxes = np.array([im.flatten() for im in boxes])\n",
        "\n",
        "  return np.array(boxes), np.array(ratings)"
      ]
    },
    {
      "cell_type": "code",
      "execution_count": 22,
      "metadata": {
        "id": "QQwKXB6y0jpe"
      },
      "outputs": [],
      "source": [
        "X, Y = get_box_ratings(labels, SegClsName.BRONCHUS, BronchusRatingName.B, n_workers=8)"
      ]
    },
    {
      "cell_type": "code",
      "execution_count": 28,
      "metadata": {
        "colab": {
          "base_uri": "https://localhost:8080/"
        },
        "id": "hNquZG5fL6Mk",
        "outputId": "f79f423b-ddc7-4eb3-ffbc-31f3ba8d7edd"
      },
      "outputs": [
        {
          "data": {
            "text/plain": [
              "((103, 120000), (103,))"
            ]
          },
          "execution_count": 28,
          "metadata": {},
          "output_type": "execute_result"
        }
      ],
      "source": [
        "\n",
        "indices = np.arange(len(Y))\n",
        "np.random.shuffle(indices)\n",
        "test_X, test_Y = X[indices[-5:]], Y[indices[-5:]]\n",
        "train_X, train_Y = X[indices[:-5]], Y[indices[:-5]]\n",
        "\n",
        "train_X.shape, train_Y.shape"
      ]
    },
    {
      "cell_type": "code",
      "execution_count": 29,
      "metadata": {
        "colab": {
          "base_uri": "https://localhost:8080/"
        },
        "id": "WlthT5HnJPBk",
        "outputId": "10507b89-86bc-4f7a-d45d-d97b9d061956"
      },
      "outputs": [
        {
          "data": {
            "text/plain": [
              "((103, 120000), (103,))"
            ]
          },
          "execution_count": 29,
          "metadata": {},
          "output_type": "execute_result"
        }
      ],
      "source": [
        "from sklearn.svm import SVR\n",
        "\n",
        "model = SVR(C=1.0, epsilon=0.2)\n",
        "model.fit(train_X, train_Y)\n",
        "train_X.shape, train_Y.shape"
      ]
    },
    {
      "cell_type": "code",
      "execution_count": 30,
      "metadata": {
        "colab": {
          "base_uri": "https://localhost:8080/"
        },
        "id": "CB207MKwM9bp",
        "outputId": "b24a622a-fecf-483c-f073-a77c797be910"
      },
      "outputs": [
        {
          "name": "stdout",
          "output_type": "stream",
          "text": [
            "0.43820927751889277 0.6619737740416102\n",
            "0.0016122428243471427 0.04015274367147459\n",
            "0.5081636528599923 0.7128559832532742\n",
            "0.3440107402712221 0.5865242878783641\n",
            "0.02158923563678935 0.14693275889599755\n",
            "0.2627170298222487 0.5125592939575369\n"
          ]
        }
      ],
      "source": [
        "for tx, ty in zip(test_X, test_Y):\n",
        "  pred_y = model.predict(np.array([tx]))\n",
        "  mse = sum((pred_y-np.array([ty]))**2)\n",
        "  print(mse, np.sqrt(mse))\n",
        "pred_y = model.predict(test_X)\n",
        "mse = sum((pred_y-test_Y)**2)/len(test_Y)\n",
        "print(mse, np.sqrt(mse))\n"
      ]
    },
    {
      "cell_type": "code",
      "execution_count": 31,
      "metadata": {
        "colab": {
          "base_uri": "https://localhost:8080/"
        },
        "id": "EGzW4jNu0QMQ",
        "outputId": "24a88d29-d58e-46aa-b9fa-f06df5687fa0"
      },
      "outputs": [
        {
          "data": {
            "text/plain": [
              "0.2273028534639745"
            ]
          },
          "execution_count": 31,
          "metadata": {},
          "output_type": "execute_result"
        }
      ],
      "source": [
        "model.score(test_X, test_Y) "
      ]
    },
    {
      "cell_type": "code",
      "execution_count": 32,
      "metadata": {
        "id": "3oXpScTMg3pL"
      },
      "outputs": [],
      "source": [
        "import torch.nn as nn\n",
        "import torchvision.models as models\n",
        "\n",
        "\n",
        "\n",
        "class ResNetSimCLR(nn.Module):\n",
        "\n",
        "    def __init__(self, base_model, out_dim):\n",
        "        super(ResNetSimCLR, self).__init__()\n",
        "        self.resnet_dict = {\"resnet18\": models.resnet18(pretrained=False, num_classes=out_dim),\n",
        "                            \"resnet50\": models.resnet50(pretrained=False, num_classes=out_dim)}\n",
        "\n",
        "        self.backbone = self._get_basemodel(base_model)\n",
        "        dim_mlp = self.backbone.fc.in_features\n",
        "\n",
        "        # add mlp projection head\n",
        "        self.backbone.fc = nn.Sequential(nn.Linear(dim_mlp, dim_mlp), nn.ReLU(), self.backbone.fc)\n",
        "\n",
        "    def _get_basemodel(self, model_name):\n",
        "        try:\n",
        "            model = self.resnet_dict[model_name]\n",
        "        except KeyError:\n",
        "            raise NotImplementedError(\n",
        "                \"Invalid backbone architecture. Check the config file and pass one of: resnet18 or resnet50\")\n",
        "        else:\n",
        "            return model\n",
        "\n",
        "    def forward(self, x):\n",
        "        return self.backbone(x)"
      ]
    }
  ],
  "metadata": {
    "colab": {
      "collapsed_sections": [],
      "name": "medical-box-rating--svm.ipynb",
      "provenance": []
    },
    "kernelspec": {
      "display_name": "Python 3",
      "name": "python3"
    },
    "language_info": {
      "name": "python"
    }
  },
  "nbformat": 4,
  "nbformat_minor": 0
}
